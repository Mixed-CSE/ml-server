{
 "cells": [
  {
   "cell_type": "code",
   "execution_count": 1,
   "id": "1eeb9ee4",
   "metadata": {},
   "outputs": [],
   "source": [
    "%matplotlib inline\n",
    "import matplotlib.pyplot as plt\n",
    "import numpy as np\n",
    "import pandas as pd\n",
    "\n",
    "import os\n",
    "import pickle\n",
    "import joblib\n",
    "\n",
    "from sklearn.model_selection import train_test_split\n",
    "from sklearn.preprocessing import StandardScaler\n",
    "from sklearn.tree import DecisionTreeClassifier\n",
    "from sklearn.ensemble import RandomForestClassifier\n",
    "from sklearn.metrics import accuracy_score"
   ]
  },
  {
   "cell_type": "code",
   "execution_count": 2,
   "id": "f0b45c0c",
   "metadata": {
    "scrolled": true
   },
   "outputs": [],
   "source": [
    "# generate data\n",
    "directory_path = 'data_file'\n",
    "file_path = 'non-com1.txt'\n",
    "with open(file_path, 'r') as file:\n",
    "    content = file.read()\n",
    "data = eval(content)\n",
    "\n",
    "for filename in os.listdir(directory_path):\n",
    "    if filename.endswith('.txt'):\n",
    "        file_path = os.path.join(directory_path, filename)\n",
    "        with open(file_path, 'r') as file:\n",
    "            content = file.read()\n",
    "        new_data = eval(content)\n",
    "        for i in new_data:\n",
    "          data.append(i)\n",
    "            \n",
    "data_list = []\n",
    "for item in data:\n",
    "    if len(item[0])==48:\n",
    "       data_list.append(item)\n",
    "# make feature and target\n",
    "X = np.array([item[0] for item in data_list])\n",
    "y = np.array([item[1] for item in data_list])"
   ]
  },
  {
   "cell_type": "code",
   "execution_count": 4,
   "id": "f210f109",
   "metadata": {},
   "outputs": [
    {
     "name": "stdout",
     "output_type": "stream",
     "text": [
      "Accuracy: 0.9781144781144782\n"
     ]
    }
   ],
   "source": [
    "# generate model and train\n",
    "class_wgt = {0:1,1:3}\n",
    "X_train, X_test, y_train, y_test = train_test_split(X, y, test_size=0.2, random_state=42,shuffle=True)\n",
    "\n",
    "rf_model = RandomForestClassifier(n_estimators=70, max_depth=3,class_weight=class_wgt)\n",
    "rf_model.fit(X_train, y_train)\n",
    "y_pred = rf_model.predict(X_test)\n",
    "accuracy = accuracy_score(y_test, y_pred)\n",
    "print(\"Accuracy:\", accuracy)"
   ]
  },
  {
   "cell_type": "code",
   "execution_count": 5,
   "id": "a3f12c0d",
   "metadata": {},
   "outputs": [
    {
     "data": {
      "text/plain": [
       "['RF_model_final.pkl']"
      ]
     },
     "execution_count": 5,
     "metadata": {},
     "output_type": "execute_result"
    }
   ],
   "source": [
    "joblib.dump(rf_model,\"RF_model_final.pkl\")"
   ]
  }
 ],
 "metadata": {
  "kernelspec": {
   "display_name": "khuthon",
   "language": "python",
   "name": "khuthon"
  },
  "language_info": {
   "codemirror_mode": {
    "name": "ipython",
    "version": 3
   },
   "file_extension": ".py",
   "mimetype": "text/x-python",
   "name": "python",
   "nbconvert_exporter": "python",
   "pygments_lexer": "ipython3",
   "version": "3.9.18"
  }
 },
 "nbformat": 4,
 "nbformat_minor": 5
}
